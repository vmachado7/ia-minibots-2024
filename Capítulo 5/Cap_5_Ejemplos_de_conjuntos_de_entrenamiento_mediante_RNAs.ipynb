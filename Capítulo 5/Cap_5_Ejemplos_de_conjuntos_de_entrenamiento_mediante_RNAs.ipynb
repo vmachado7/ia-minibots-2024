{
  "nbformat": 4,
  "nbformat_minor": 0,
  "metadata": {
    "colab": {
      "provenance": []
    },
    "kernelspec": {
      "name": "python3",
      "display_name": "Python 3"
    },
    "language_info": {
      "name": "python"
    }
  },
  "cells": [
    {
      "cell_type": "markdown",
      "source": [
        "Se usan perceptrones multicapa, propagación hacia adelante, backpropagation y actualización de pesos para el reconocimiento de números de [`reconocNumeros.ipynb`](https://colab.research.google.com/drive/1EdnmbkRiDWxfZXPL3deCUlc29j7sbcva#scrollTo=GN4Nk4GwfcTv). Se usa una RNA de capa oculta para la clasificación de números. Se utiliza ReLU en la capa oculta y softmax en la capa de salida para la predicción de probabilidades. El aprendizaje se realiza mediante bsckpropagation y optimización de los pesos con descenso de gradiente."
      ],
      "metadata": {
        "id": "noq77tNxte5c"
      }
    },
    {
      "cell_type": "code",
      "execution_count": null,
      "metadata": {
        "colab": {
          "base_uri": "https://localhost:8080/",
          "height": 383
        },
        "id": "brIELnzntBNP",
        "outputId": "2846c3f4-9331-4320-d1bb-d3a0a8cb9c61"
      },
      "outputs": [
        {
          "output_type": "error",
          "ename": "ModuleNotFoundError",
          "evalue": "No module named 'funciones'",
          "traceback": [
            "\u001b[0;31m---------------------------------------------------------------------------\u001b[0m",
            "\u001b[0;31mModuleNotFoundError\u001b[0m                       Traceback (most recent call last)",
            "\u001b[0;32m<ipython-input-1-56dfc3c08f3d>\u001b[0m in \u001b[0;36m<cell line: 0>\u001b[0;34m()\u001b[0m\n\u001b[1;32m      1\u001b[0m \u001b[0;32mimport\u001b[0m \u001b[0mnumpy\u001b[0m \u001b[0;32mas\u001b[0m \u001b[0mnp\u001b[0m\u001b[0;34m\u001b[0m\u001b[0;34m\u001b[0m\u001b[0m\n\u001b[1;32m      2\u001b[0m \u001b[0;32mimport\u001b[0m \u001b[0mmatplotlib\u001b[0m\u001b[0;34m.\u001b[0m\u001b[0mpyplot\u001b[0m \u001b[0;32mas\u001b[0m \u001b[0mplt\u001b[0m\u001b[0;34m\u001b[0m\u001b[0;34m\u001b[0m\u001b[0m\n\u001b[0;32m----> 3\u001b[0;31m \u001b[0;32mfrom\u001b[0m \u001b[0mfunciones\u001b[0m \u001b[0;32mimport\u001b[0m \u001b[0mgetData\u001b[0m\u001b[0;34m,\u001b[0m \u001b[0my2indicator\u001b[0m\u001b[0;34m,\u001b[0m \u001b[0merror_rate\u001b[0m\u001b[0;34m,\u001b[0m \u001b[0mrelu\u001b[0m\u001b[0;34m,\u001b[0m \u001b[0msoftmax\u001b[0m\u001b[0;34m\u001b[0m\u001b[0;34m\u001b[0m\u001b[0m\n\u001b[0m\u001b[1;32m      4\u001b[0m \u001b[0;34m\u001b[0m\u001b[0m\n\u001b[1;32m      5\u001b[0m \u001b[0;32mclass\u001b[0m \u001b[0mNeuralNetwork\u001b[0m\u001b[0;34m:\u001b[0m\u001b[0;34m\u001b[0m\u001b[0;34m\u001b[0m\u001b[0m\n",
            "\u001b[0;31mModuleNotFoundError\u001b[0m: No module named 'funciones'",
            "",
            "\u001b[0;31m---------------------------------------------------------------------------\u001b[0;32m\nNOTE: If your import is failing due to a missing package, you can\nmanually install dependencies using either !pip or !apt.\n\nTo view examples of installing some common dependencies, click the\n\"Open Examples\" button below.\n\u001b[0;31m---------------------------------------------------------------------------\u001b[0m\n"
          ],
          "errorDetails": {
            "actions": [
              {
                "action": "open_url",
                "actionText": "Open Examples",
                "url": "/notebooks/snippets/importing_libraries.ipynb"
              }
            ]
          }
        }
      ],
      "source": [
        "import numpy as np\n",
        "import matplotlib.pyplot as plt\n",
        "from funciones import getData, y2indicator, error_rate, relu, softmax\n",
        "\n",
        "class NeuralNetwork:\n",
        "    def __init__(self, input_size, hidden_size, output_size):\n",
        "        self.W1 = np.random.randn(input_size, hidden_size) / np.sqrt(input_size)\n",
        "        self.b1 = np.zeros(hidden_size)\n",
        "        self.W2 = np.random.randn(hidden_size, output_size) / np.sqrt(hidden_size)\n",
        "        self.b2 = np.zeros(output_size)\n",
        "    def forward(self, X):\n",
        "        Z = relu(X.dot(self.W1) + self.b1)\n",
        "        A = softmax(Z.dot(self.W2) + self.b2)\n",
        "        return Z, A\n",
        "    def backward(self, X, Z, A, T, learning_rate=1e-4, reg=1e-3):\n",
        "        N = X.shape[0]\n",
        "        dA = A - T\n",
        "        self.W2 -= learning_rate * (Z.T.dot(dA) + reg * self.W2)\n",
        "        self.b2 -= learning_rate * (dA.sum(axis=0) + reg * self.b2)\n",
        "        dZ = dA.dot(self.W2.T) * (Z > 0)\n",
        "        self.W1 -= learning_rate * (X.T.dot(dZ) + reg * self.W1)\n",
        "        self.b1 -= learning_rate * (dZ.sum(axis=0) + reg * self.b1)\n",
        "    def train(self, X, Y, Xvalid, Yvalid, epochs=500, learning_rate=1e-4, reg=1e-3):\n",
        "        T = y2indicator(Y)\n",
        "        Tvalid = y2indicator(Yvalid)\n",
        "        costs = []\n",
        "        for i in range(epochs):\n",
        "            Z, A = self.forward(X)\n",
        "            self.backward(X, Z, A, T, learning_rate, reg)\n",
        "            if i % 10 == 0:\n",
        "                _, Avalid = self.forward(Xvalid)\n",
        "                c = self.cost(Tvalid, Avalid)\n",
        "                costs.append(c)\n",
        "                e = error_rate(Yvalid, np.argmax(Avalid, axis=1))\n",
        "                print(f\"Epoch: {i}, Cost: {c}, Error: {e}\")\n",
        "        plt.plot(costs)\n",
        "        plt.xlabel(\"Epochs\")\n",
        "        plt.ylabel(\"Cost\")\n",
        "        plt.show()\n",
        "    def cost(self, T, Y):\n",
        "        return -(T * np.log(Y)).sum()\n",
        "    def predict(self, X):\n",
        "        _, A = self.forward(X)\n",
        "        return np.argmax(A, axis=1)\n",
        "def main():\n",
        "    Xtrain, Ytrain, Xvalid, Yvalid = getData()\n",
        "    input_size = Xtrain.shape[1]\n",
        "    hidden_size = 200\n",
        "    output_size = len(set(Ytrain))\n",
        "    model = NeuralNetwork(input_size, hidden_size, output_size)\n",
        "    model.train(Xtrain, Ytrain, Xvalid, Yvalid, epochs=500)\n",
        "    print(\"Final validation error rate:\", error_rate(Yvalid, model.predict(Xvalid)))\n",
        "    for i in range(10):\n",
        "        img = Xvalid[i].reshape(28, 28)\n",
        "        plt.imshow(img, cmap='gray')\n",
        "        plt.show()\n",
        "        print(f\"Prediction: {model.predict(Xvalid[i].reshape(1, -1))}, Actual: {Yvalid[i]}\")\n",
        "if __name__ == '__main__':\n",
        "    main()"
      ]
    }
  ]
}