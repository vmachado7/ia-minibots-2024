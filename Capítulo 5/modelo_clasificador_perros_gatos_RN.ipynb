{
  "nbformat": 4,
  "nbformat_minor": 0,
  "metadata": {
    "colab": {
      "provenance": []
    },
    "kernelspec": {
      "name": "python3",
      "display_name": "Python 3"
    },
    "language_info": {
      "name": "python"
    }
  },
  "cells": [
    {
      "cell_type": "markdown",
      "source": [
        "Modelo de clasificación de imágenes de perros y gatos (RNA) mediante Kerasy TensorFlow para Deep Learning"
      ],
      "metadata": {
        "id": "k24Mh5bC3HWX"
      }
    },
    {
      "cell_type": "code",
      "execution_count": null,
      "metadata": {
        "id": "DoOSmjNi2gN8"
      },
      "outputs": [],
      "source": [
        "import numpy as np\n",
        "import tensorflow as tf\n",
        "from tensorflow.keras.models import Sequential\n",
        "from tensorflow.keras.layers import Conv2D, MaxPooling2D, Flatten, Dense, Dropout\n",
        "from tensorflow.keras.preprocessing.image import ImageDataGenerator\n",
        "\n",
        "input_shape = (128, 128, 3)\n",
        "batch_size = 32\n",
        "epochs = 10\n",
        "\n",
        "#Creación del modelo\n",
        "model = Sequential([\n",
        "    Conv2D(32, (3, 3), activation='relu', input_shape=input_shape),\n",
        "    MaxPooling2D((2, 2)),\n",
        "    Conv2D(64, (3, 3), activation='relu'),\n",
        "    MaxPooling2D((2, 2)),\n",
        "    Conv2D(128, (3, 3), activation='relu'),\n",
        "    MaxPooling2D((2, 2)),\n",
        "    Flatten(),\n",
        "    Dense(512, activation='relu'),\n",
        "    Dropout(0.5),\n",
        "    Dense(1, activation='sigmoid')\n",
        "])\n",
        "\n",
        "#Compilación\n",
        "model.compile(optimizer='adam', loss='binary_crossentropy', metrics=['accuracy'])"
      ]
    },
    {
      "cell_type": "markdown",
      "source": [
        "Preprocesamiento y aumento de datos. Nótese cambiar la ruta a la que se tengan los datasets. En la ejecución inicial se usaron directorios dataset/perros y dataset/gatos."
      ],
      "metadata": {
        "id": "_ilhAF5Z3aVO"
      }
    },
    {
      "cell_type": "code",
      "source": [
        "train_datagen = ImageDataGenerator(rescale=1./255, shear_range=0.2, zoom_range=0.2, horizontal_flip=True, validation_split=0.2)\n",
        "train_generator = train_datagen.flow_from_directory(\n",
        "    'F:\\\\ia-minibots-2024\\\\Capítulo 5\\\\punto-2-gatos-y-perros\\\\dataset',\n",
        "    target_size=(128, 128),\n",
        "    batch_size=batch_size,\n",
        "    class_mode='binary',\n",
        "    subset='training'\n",
        ")\n",
        "validation_generator = train_datagen.flow_from_directory(\n",
        "    'F:\\\\ia-minibots-2024\\\\Capítulo 5\\\\punto-2-gatos-y-perros\\\\dataset',\n",
        "    target_size=(128, 128),\n",
        "    batch_size=batch_size,\n",
        "    class_mode='binary',\n",
        "    subset='validation'\n",
        ")"
      ],
      "metadata": {
        "id": "WcHOayR53qEf"
      },
      "execution_count": null,
      "outputs": []
    },
    {
      "cell_type": "markdown",
      "source": [
        "Entrenamiento, evaluación y guardado del modelo"
      ],
      "metadata": {
        "id": "cEVVw5fB32Ht"
      }
    },
    {
      "cell_type": "code",
      "source": [
        "\n",
        "#Entrenamiento\n",
        "history = model.fit(\n",
        "    train_generator,\n",
        "    epochs=epochs,\n",
        "    validation_data=validation_generator\n",
        ")\n",
        "\n",
        "#Evaluación\n",
        "loss, accuracy = model.evaluate(validation_generator)\n",
        "print(f'Loss: {loss}, Accuracy: {accuracy}')\n",
        "\n",
        "# Guardado\n",
        "model.save('modelo_perros_gatos.h5')"
      ],
      "metadata": {
        "id": "ra7SNgvk31Yl"
      },
      "execution_count": null,
      "outputs": []
    }
  ]
}