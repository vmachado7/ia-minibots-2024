{
  "nbformat": 4,
  "nbformat_minor": 0,
  "metadata": {
    "colab": {
      "provenance": []
    },
    "kernelspec": {
      "name": "python3",
      "display_name": "Python 3"
    },
    "language_info": {
      "name": "python"
    }
  },
  "cells": [
    {
      "cell_type": "markdown",
      "source": [
        "El algoritmo K-NN se basa en la idea de que los puntos de datos similares están cerca unos de otros en el espacio de características. En este caso, usaremos K-NN para predecir la raíz cuadrada de un número, basándonos en ejemplos de entrenamiento.\n"
      ],
      "metadata": {
        "id": "NXRY-vFGkfJt"
      }
    },
    {
      "cell_type": "code",
      "execution_count": null,
      "metadata": {
        "colab": {
          "base_uri": "https://localhost:8080/"
        },
        "id": "4OFjLwuxkauy",
        "outputId": "6fe746b9-4200-4cd8-e5ae-bc563f8bb867"
      },
      "outputs": [
        {
          "output_type": "stream",
          "name": "stdout",
          "text": [
            "Error cuadrático medio: 0.0018924067523489272\n"
          ]
        }
      ],
      "source": [
        "import numpy as np\n",
        "import pandas as pd\n",
        "from sklearn.model_selection import train_test_split\n",
        "from sklearn.neighbors import KNeighborsRegressor\n",
        "from sklearn.metrics import mean_squared_error\n",
        "\n",
        "# Generamos datos: números aleatorios entre 0 y 1000\n",
        "X = np.random.rand(1000, 1) * 1000  # 1000 números entre 0 y 1000\n",
        "y = np.sqrt(X)  # Raíz cuadrada de esos números\n",
        "\n",
        "# Dividimos el dataset en entrenamiento y prueba\n",
        "X_train, X_test, y_train, y_test = train_test_split(X, y, test_size=0.2, random_state=42)\n",
        "\n",
        "# Creamos el modelo de K-Nearest Neighbors\n",
        "knn = KNeighborsRegressor(n_neighbors=5)\n",
        "\n",
        "# Entrenamos el modelo\n",
        "knn.fit(X_train, y_train)\n",
        "\n",
        "# Hacemos predicciones\n",
        "y_pred = knn.predict(X_test)\n",
        "\n",
        "# Calculamos el error cuadrático medio para evaluar el modelo\n",
        "error = mean_squared_error(y_test, y_pred)\n",
        "\n",
        "print(f\"Error cuadrático medio: {error}\")\n"
      ]
    }
  ]
}