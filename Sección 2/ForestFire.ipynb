{
  "nbformat": 4,
  "nbformat_minor": 0,
  "metadata": {
    "colab": {
      "provenance": []
    },
    "kernelspec": {
      "name": "python3",
      "display_name": "Python 3"
    },
    "language_info": {
      "name": "python"
    }
  },
  "cells": [
    {
      "cell_type": "code",
      "execution_count": 12,
      "metadata": {
        "id": "WNNzhdI0vTdX",
        "colab": {
          "base_uri": "https://localhost:8080/",
          "height": 518
        },
        "outputId": "3a1ec243-7d0c-402a-8d78-5a0440cceae0"
      },
      "outputs": [
        {
          "output_type": "display_data",
          "data": {
            "text/plain": [
              "<Figure size 833.333x625 with 1 Axes>"
            ],
            "image/png": "[encoded data removed]"
          },
          "metadata": {}
        }
      ],
      "source": [
        "import numpy as np\n",
        "import matplotlib.pyplot as plt\n",
        "from matplotlib import animation\n",
        "from matplotlib import colors\n",
        "\n",
        "# Create a forest fire animation based on a simple cellular automaton model.\n",
        "# The maths behind this code is described in the scipython blog article\n",
        "# at https://scipython.com/blog/the-forest-fire-model/\n",
        "# Christian Hill, January 2016.\n",
        "# Updated January 2020.\n",
        "\n",
        "# Displacements from a cell to its eight nearest neighbours\n",
        "neighbourhood = ((-1,-1), (-1,0), (-1,1), (0,-1), (0, 1), (1,-1), (1,0), (1,1))\n",
        "EMPTY, TREE, FIRE = 0, 1, 2\n",
        "# Colours for visualization: brown for EMPTY, dark green for TREE and orange\n",
        "# for FIRE. Note that for the colormap to work, this list and the bounds list\n",
        "# must be one larger than the number of different values in the array.\n",
        "colors_list = [(0.2,0,0), (0,0.5,0), (1,0,0), 'orange']\n",
        "cmap = colors.ListedColormap(colors_list)\n",
        "bounds = [0,1,2,3]\n",
        "norm = colors.BoundaryNorm(bounds, cmap.N)\n",
        "\n",
        "def iterate(X):\n",
        "    \"\"\"Iterate the forest according to the forest-fire rules.\"\"\"\n",
        "\n",
        "    # The boundary of the forest is always empty, so only consider cells\n",
        "    # indexed from 1 to nx-2, 1 to ny-2\n",
        "    X1 = np.zeros((ny, nx))\n",
        "    for ix in range(1,nx-1):\n",
        "        for iy in range(1,ny-1):\n",
        "            if X[iy,ix] == EMPTY and np.random.random() <= p:\n",
        "                X1[iy,ix] = TREE\n",
        "            if X[iy,ix] == TREE:\n",
        "                X1[iy,ix] = TREE\n",
        "                for dx,dy in neighbourhood:\n",
        "                    # The diagonally-adjacent trees are further away, so\n",
        "                    # only catch fire with a reduced probability:\n",
        "                    if abs(dx) == abs(dy) and np.random.random() < 0.573:\n",
        "                        continue\n",
        "                    if X[iy+dy,ix+dx] == FIRE:\n",
        "                        X1[iy,ix] = FIRE\n",
        "                        break\n",
        "                else:\n",
        "                    if np.random.random() <= f:\n",
        "                        X1[iy,ix] = FIRE\n",
        "    return X1\n",
        "\n",
        "# The initial fraction of the forest occupied by trees.\n",
        "forest_fraction = 0.2\n",
        "# Probability of new tree growth per empty cell, and of lightning strike.\n",
        "p, f = 0.05, 0.0001\n",
        "# Forest size (number of cells in x and y directions).\n",
        "nx, ny = 100, 100\n",
        "# Initialize the forest grid.\n",
        "X  = np.zeros((ny, nx))\n",
        "X[1:ny-1, 1:nx-1] = np.random.randint(0, 2, size=(ny-2, nx-2))\n",
        "X[1:ny-1, 1:nx-1] = np.random.random(size=(ny-2, nx-2)) < forest_fraction\n",
        "\n",
        "fig = plt.figure(figsize=(25/3, 6.25))\n",
        "ax = fig.add_subplot(111)\n",
        "ax.set_axis_off()\n",
        "im = ax.imshow(X, cmap=cmap, norm=norm)#, interpolation='nearest')\n",
        "\n",
        "# The animation function: called to produce a frame for each generation.\n",
        "def animate(i):\n",
        "    im.set_data(animate.X)\n",
        "    animate.X = iterate(animate.X)\n",
        "# Bind our grid to the identifier X in the animate function's namespace.\n",
        "animate.X = X\n",
        "\n",
        "# Interval between frames (ms).\n",
        "interval = 100\n",
        "anim = animation.FuncAnimation(fig, animate, interval=interval, frames=200)\n",
        "plt.show()"
      ]
    }
  ]
}