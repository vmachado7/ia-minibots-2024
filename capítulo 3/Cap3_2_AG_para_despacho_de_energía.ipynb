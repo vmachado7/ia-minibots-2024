{
  "nbformat": 4,
  "nbformat_minor": 0,
  "metadata": {
    "colab": {
      "provenance": []
    },
    "kernelspec": {
      "name": "python3",
      "display_name": "Python 3"
    },
    "language_info": {
      "name": "python"
    }
  },
  "cells": [
    {
      "cell_type": "markdown",
      "source": [
        "Construcción de AG para encontrar el mejor despacho de energía minimizando los costos de transporte y generación."
      ],
      "metadata": {
        "id": "nB7MM0ri8p3T"
      }
    },
    {
      "cell_type": "markdown",
      "source": [
        "# **Datos Iniciales**\n",
        "\n",
        "Capacidad de las plantas: `[3, 6, 5, 4]` GW\n",
        "\n",
        "Necesidades de las ciudades: `[4, 3, 5, 3]` GW\n",
        "\n",
        "Costos de transporte (por GW):"
      ],
      "metadata": {
        "id": "olOmswPx8wh7"
      }
    },
    {
      "cell_type": "code",
      "execution_count": null,
      "metadata": {
        "id": "QPb7BV_e8dKr"
      },
      "outputs": [],
      "source": [
        "costos_transporte = [\n",
        "    [1,4,3,6], #Planta C\n",
        "    [4,1,4,5], #Planta B\n",
        "    [3,4,1,4], #Planta M\n",
        "    [6,5,4,1]  #Planta B\n",
        "]"
      ]
    },
    {
      "cell_type": "markdown",
      "source": [
        "Costos por kW-H por generador:"
      ],
      "metadata": {
        "id": "ni13h0wo9XNK"
      }
    },
    {
      "cell_type": "code",
      "source": [
        "costos_generacion = [680,720,660,750] #Planta C, B, M, B"
      ],
      "metadata": {
        "id": "aOFpgePL9a2F"
      },
      "execution_count": null,
      "outputs": []
    },
    {
      "cell_type": "markdown",
      "source": [
        "# **Algoritmo Genético para Optimización**\n",
        "\n",
        "Se define el tamaño de la población, el número de generaciones y la tasa de mutación; se genera la población inicial de soluciones, se evalúa la aptitud de cada individuo (solución) basado en los costos; se seleccionan los mejores individuos para cruzar y crear la siguiente generación, se aplican mutación para mantener la diversidad genética; y, se repeta hasta alcanzar el criterio de parada."
      ],
      "metadata": {
        "id": "hyL7BMGU9lNL"
      }
    },
    {
      "cell_type": "code",
      "source": [
        "import numpy as np\n",
        "import random\n",
        "\n",
        "capacidad_plantas = [3,6,5,4]\n",
        "necesidades_ciudades = [4,3,5,3]\n",
        "costos_transporte = [\n",
        "    [1,4,3,6], #Planta C\n",
        "    [4,1,4,5], #Planta B\n",
        "    [3,4,1,4], #Planta M\n",
        "    [6,5,4,1]  #Planta B\n",
        "]\n",
        "costos_generacion = [680, 720, 660, 750]  #Planta C,B,M,B\n",
        "\n",
        "def generar_poblacion(tam_poblacion, num_plantas, num_ciudades):\n",
        "    return [np.random.permutation(num_plantas * num_ciudades).reshape(num_plantas, num_ciudades) for i in range(tam_poblacion)]\n",
        "\n",
        "def evaluar_aptitud(individuo):\n",
        "    total_costo = 0\n",
        "    for i in range(len(capacidad_plantas)):\n",
        "        for j in range(len(necesidades_ciudades)):\n",
        "            if individuo[i][j] > 0:\n",
        "                costo_transporte = costos_transporte[i][j] * individuo[i][j]\n",
        "                costo_generacion = costos_generacion[i] * individuo[i][j]\n",
        "                total_costo += costo_transporte + costo_generacion\n",
        "    return total_costo\n",
        "\n",
        "def seleccionar_padres(poblacion, aptitudes, num_padres):\n",
        "    return random.choices(poblacion, weights=aptitudes, k=num_padres)\n",
        "\n",
        "def cruzar_padres(padre1, padre2):\n",
        "    punto_cruce = random.randint(1, padre1.size - 1)\n",
        "    hijo1 = np.concatenate((padre1.flatten()[:punto_cruce], padre2.flatten()[punto_cruce:])).reshape(padre1.shape)\n",
        "    hijo2 = np.concatenate((padre2.flatten()[:punto_cruce], padre1.flatten()[punto_cruce:])).reshape(padre1.shape)\n",
        "    return hijo1,hijo2\n",
        "\n",
        "def mutar_individuo(individuo, tasa_mutacion):\n",
        "    for i in range(individuo.shape[0]):\n",
        "        for j in range(individuo.shape[1]):\n",
        "            if random.random() < tasa_mutacion:\n",
        "                individuo[i][j] = random.randint(0, max(capacidad_plantas[i], necesidades_ciudades[j]))\n",
        "    return individuo\n",
        "\n",
        "def algoritmo_genetico(tam_poblacion, num_generaciones, tasa_mutacion):\n",
        "    num_plantas = len(capacidad_plantas)\n",
        "    num_ciudades = len(necesidades_ciudades)\n",
        "    poblacion = generar_poblacion(tam_poblacion, num_plantas, num_ciudades)\n",
        "    mejores_aptitudes = []\n",
        "\n",
        "    for _ in range(num_generaciones):\n",
        "        aptitudes = [evaluar_aptitud(individuo) for individuo in poblacion]\n",
        "        mejores_aptitudes.append(min(aptitudes))\n",
        "        padres = seleccionar_padres(poblacion, aptitudes, tam_poblacion // 2)\n",
        "        nuevos_individuos = []\n",
        "\n",
        "        for i in range(0, len(padres), 2):\n",
        "            padre1, padre2 = padres[i], padres[i + 1]\n",
        "            hijo1, hijo2 = cruzar_padres(padre1, padre2)\n",
        "            nuevos_individuos.extend([hijo1, hijo2])\n",
        "\n",
        "        poblacion = [mutar_individuo(individuo, tasa_mutacion) for individuo in nuevos_individuos]\n",
        "\n",
        "    mejor_individuo = min(poblacion, key=lambda ind: evaluar_aptitud(ind))\n",
        "    return mejor_individuo, mejores_aptitudes\n",
        "\n",
        "tam_poblacion=100\n",
        "num_generaciones=1000\n",
        "tasa_mutacion=0.01\n",
        "\n",
        "mejor_individuo,mejores_aptitudes = algoritmo_genetico(tam_poblacion, num_generaciones, tasa_mutacion)\n",
        "\n",
        "print(\"Mejor Individuo (Distribución de Energía):\")\n",
        "print(mejor_individuo)\n",
        "print(\"Mejor Aptitud (Costo Mínimo):\",min(mejores_aptitudes))"
      ],
      "metadata": {
        "id": "dXhJJKhO-Eeq"
      },
      "execution_count": null,
      "outputs": []
    }
  ]
}