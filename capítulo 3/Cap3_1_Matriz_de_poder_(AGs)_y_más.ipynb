{
  "nbformat": 4,
  "nbformat_minor": 0,
  "metadata": {
    "colab": {
      "provenance": []
    },
    "kernelspec": {
      "name": "python3",
      "display_name": "Python 3"
    },
    "language_info": {
      "name": "python"
    }
  },
  "cells": [
    {
      "cell_type": "markdown",
      "source": [
        "Se empezará por distribuir aleatoriamente las 50 curules entre los 5 partidos con una distribución no uniforme. Luego, se asignará un peso político a 50 entidades y utilizy se utilizará AGs para crear una matriz de poder."
      ],
      "metadata": {
        "id": "Y0xv2Eux4hXL"
      }
    },
    {
      "cell_type": "markdown",
      "source": [
        "Distribución aleatoria de las 50 curules entre 5 partidos:"
      ],
      "metadata": {
        "id": "mlJLEKDQ4vHh"
      }
    },
    {
      "cell_type": "code",
      "execution_count": null,
      "metadata": {
        "id": "R0IpQacW4R-s"
      },
      "outputs": [],
      "source": [
        "import random\n",
        "\n",
        "partidos = [\"Partido A\", \"Partido B\", \"Partido C\", \"Partido D\", \"Partido E\"]\n",
        "curules = 50\n",
        "distribucion_curules = [random.randint(0, curules) for _ in range(5)]\n",
        "suma_distribucion = sum(distribucion_curules)\n",
        "\n",
        "# Ajuste de distribución para sumar 50 curules\n",
        "while suma_distribucion != curules:\n",
        "    index = random.randint(0, 4)\n",
        "    if suma_distribucion < curules:\n",
        "        distribucion_curules[index] += 1\n",
        "    else:\n",
        "        distribucion_curules[index] -= 1\n",
        "    suma_distribucion = sum(distribucion_curules)\n",
        "\n",
        "print(\"Distribución de Curules:\", dict(zip(partidos, distribucion_curules)))"
      ]
    },
    {
      "cell_type": "markdown",
      "source": [
        "Asignación de un peso político aleatorio a 50 entidades:"
      ],
      "metadata": {
        "id": "E7VJae-R4_F1"
      }
    },
    {
      "cell_type": "code",
      "source": [
        "entidades = [f\"Entidad {i+1}\" for i in range(50)]\n",
        "peso_politico = [random.randint(1, 100) for _ in range(50)]\n",
        "\n",
        "print(\"Peso Político de las Entidades:\", dict(zip(entidades, peso_politico)))"
      ],
      "metadata": {
        "id": "DJEZ2g3x5GHq"
      },
      "execution_count": null,
      "outputs": []
    },
    {
      "cell_type": "markdown",
      "source": [
        "Creación de la Matriz de Poder usando AGs mediante implementación del AG para repartir el poder:"
      ],
      "metadata": {
        "id": "5H1e8i5Q5P7q"
      }
    },
    {
      "cell_type": "code",
      "source": [
        "import numpy as np\n",
        "\n",
        "def generar_poblacion(tam_poblacion, num_entidades):\n",
        "    return [np.random.permutation(num_entidades).tolist() for _ in range(tam_poblacion)]\n",
        "\n",
        "def evaluar_aptitud(individuo, pesos, distribucion_curules):\n",
        "    aptitud = 0\n",
        "    curules_asignadas = [0] * len(distribucion_curules)\n",
        "    for i, entidad in enumerate(individuo):\n",
        "        partido = i % len(distribucion_curules)\n",
        "        aptitud += pesos[entidad]\n",
        "        curules_asignadas[partido] += 1\n",
        "    # Penalización si la distribución de curules no se cumple\n",
        "    penalizacion = sum(abs(curules_asignadas[i] - distribucion_curules[i]) for i in range(len(distribucion_curules)))\n",
        "    return aptitud - penalizacion\n",
        "\n",
        "def seleccionar_padres(poblacion, aptitudes, num_padres):\n",
        "    seleccionados = random.choices(poblacion, weights=aptitudes, k=num_padres)\n",
        "    return seleccionados\n",
        "\n",
        "def cruzar_padres(padre1, padre2):\n",
        "    punto_cruce = random.randint(1, len(padre1) - 1)\n",
        "    hijo1 = padre1[:punto_cruce] + padre2[punto_cruce:]\n",
        "    hijo2 = padre2[:punto_cruce] + padre1[punto_cruce:]\n",
        "    return hijo1, hijo2\n",
        "\n",
        "def mutar_individuo(individuo, tasa_mutacion):\n",
        "    for i in range(len(individuo)):\n",
        "        if random.random() < tasa_mutacion:\n",
        "            j = random.randint(0, len(individuo) - 1)\n",
        "            individuo[i], individuo[j] = individuo[j], individuo[i]\n",
        "    return individuo\n",
        "\n",
        "def algoritmo_genetico(tam_poblacion, num_generaciones, tasa_mutacion, pesos, distribucion_curules):\n",
        "    num_entidades = len(pesos)\n",
        "    poblacion = generar_poblacion(tam_poblacion, num_entidades)\n",
        "    mejores_aptitudes = []\n",
        "\n",
        "    for _ in range(num_generaciones):\n",
        "        aptitudes = [evaluar_aptitud(individuo, pesos, distribucion_curules) for individuo in poblacion]\n",
        "        mejores_aptitudes.append(max(aptitudes))\n",
        "        padres = seleccionar_padres(poblacion, aptitudes, tam_poblacion // 2)\n",
        "        nuevos_individuos = []\n",
        "\n",
        "        for i in range(0, len(padres), 2):\n",
        "            padre1, padre2 = padres[i], padres[i + 1]\n",
        "            hijo1, hijo2 = cruzar_padres(padre1, padre2)\n",
        "            nuevos_individuos.extend([hijo1, hijo2])\n",
        "\n",
        "        poblacion = [mutar_individuo(individuo, tasa_mutacion) for individuo in nuevos_individuos]\n",
        "\n",
        "    mejor_individuo = max(poblacion, key=lambda ind: evaluar_aptitud(ind, pesos, distribucion_curules))\n",
        "    return mejor_individuo, mejores_aptitudes\n",
        "\n",
        "tam_poblacion = 100\n",
        "num_generaciones = 1000\n",
        "tasa_mutacion = 0.01\n",
        "\n",
        "mejor_individuo, mejores_aptitudes = algoritmo_genetico(tam_poblacion, num_generaciones, tasa_mutacion, peso_politico, distribucion_curules)\n",
        "\n",
        "print(\"Mejor Individuo:\", mejor_individuo)\n",
        "print(\"Mejores Aptitudes:\", mejores_aptitudes[-1])"
      ],
      "metadata": {
        "id": "uuLAwan35Zk7"
      },
      "execution_count": null,
      "outputs": []
    }
  ]
}